{
 "cells": [
  {
   "cell_type": "markdown",
   "metadata": {},
   "source": [
    "# Ejercicio 1\n",
    "\n",
    "En este notebook se pretende crear un sistema estocástico básico para simulaciones. La idea es encontrar el FPT de este proceso y crear un método discreto que sirva para encontrar la probabilidad de pasar el umbral establecido.\n",
    "\n",
    "Se partirá con la creación de una clase que sea el proceso, el cual es capaz de generar números aleatorios a partir de un sistema básico determinado por una ecuación de evolución (dinámica del sistema)."
   ]
  },
  {
   "cell_type": "code",
   "execution_count": 1,
   "metadata": {},
   "outputs": [],
   "source": [
    "import numpy as np\n",
    "from matplotlib import pyplot as plt\n",
    "import sys\n",
    "from scipy.stats import norm\n",
    "import scipy.integrate as integrate\n",
    "import math"
   ]
  },
  {
   "cell_type": "markdown",
   "metadata": {},
   "source": [
    "Primero, hay que calcular la distribución de probabilidad del tiempo de falla de un proceso simple:\n",
    "\n",
    "$$ x_{t+1} = k + a_1 x_t + \\mu_{t+1} $$\n",
    "\n",
    "Donde $\\mu \\sim N(0,\\sigma)$, $k$ y $a_1$ es una constante del proceso."
   ]
  },
  {
   "cell_type": "code",
   "execution_count": 2,
   "metadata": {},
   "outputs": [
    {
     "data": {
      "text/plain": [
       "<matplotlib.collections.LineCollection at 0x7f8c0cfc39d0>"
      ]
     },
     "execution_count": 2,
     "metadata": {},
     "output_type": "execute_result"
    },
    {
     "data": {
      "image/png": "[encoded data removed]",
      "text/plain": [
       "<Figure size 432x288 with 1 Axes>"
      ]
     },
     "metadata": {
      "needs_background": "light"
     },
     "output_type": "display_data"
    }
   ],
   "source": [
    "x_0 = 1\n",
    "N = 41\n",
    "\n",
    "proceso = np.zeros((N,))\n",
    "proceso[0] = x_0\n",
    "a1 = 1.05\n",
    "sigma = 0.6\n",
    "np.random.seed(32)\n",
    "u = 7\n",
    "K = 0.4\n",
    "\n",
    "for i in range(N-1):\n",
    "    \n",
    "    proceso[i + 1] = K + a1 * proceso[i] + np.random.normal(0, sigma)\n",
    "\n",
    "plt.plot(proceso)\n",
    "plt.hlines(u,0,N)"
   ]
  },
  {
   "cell_type": "markdown",
   "metadata": {},
   "source": [
    "A continuación se definen funciones auxiliares para calcular la media y la varianza de forma teóricas"
   ]
  },
  {
   "cell_type": "code",
   "execution_count": 3,
   "metadata": {},
   "outputs": [],
   "source": [
    "def E(t, dt, x_=None):\n",
    "    x = 0\n",
    "\n",
    "    for i in range(dt): x += a1**i\n",
    "    x *= K\n",
    "    \n",
    "    if x_ is not None: x += (a1**dt) * x_\n",
    "    else: x += (a1**dt) * proceso[t]\n",
    "    \n",
    "    return x\n",
    "\n",
    "def Var(t, dt, x_=None):\n",
    "    x = 0\n",
    "    \n",
    "    for i in range(dt): x += a1**(2*i)\n",
    "    \n",
    "    x *= sigma**2\n",
    "    \n",
    "    return x\n"
   ]
  },
  {
   "cell_type": "markdown",
   "metadata": {},
   "source": [
    "Ahora hay que correr un montecarlo para capturar la primera pasada por un umbral"
   ]
  },
  {
   "cell_type": "code",
   "execution_count": 6,
   "metadata": {},
   "outputs": [
    {
     "name": "stdout",
     "output_type": "stream",
     "text": [
      "0\n",
      "7\n"
     ]
    },
    {
     "data": {
      "image/png": "[encoded data removed]",
      "text/plain": [
       "<Figure size 432x288 with 1 Axes>"
      ]
     },
     "metadata": {
      "needs_background": "light"
     },
     "output_type": "display_data"
    }
   ],
   "source": [
    "M = 5000 # cantidad de simulaciones\n",
    "n = 0 # punto inicial donde se comienza a predecir\n",
    "PROCESOS = np.zeros((M, N - n)) # simulaciones\n",
    "FPT = [] # tiempos de primera pasada\n",
    "\n",
    "### SIMULACIONES MC ###\n",
    "for i in range(M):\n",
    "    \n",
    "    s = 0\n",
    "    x = np.zeros((N - n,))\n",
    "    t = np.linspace(n, N, num=N-n)\n",
    "    x[0] = proceso[n]\n",
    "    first_time = True\n",
    "    \n",
    "    for j in range(len(x) - 1):\n",
    "        x[j + 1] = K + a1 * x[j] + np.random.normal(0, sigma)\n",
    "        if x[j] >= u and first_time:\n",
    "            FPT.append(j)\n",
    "            first_time = False\n",
    "\n",
    "    PROCESOS[i, :] = x\n",
    "#     plt.plot(t, x, color='r', alpha=0.01)\n",
    "\n",
    "### CALCULO MEDIA Y VARIANZA \n",
    "# t = np.linspace(n, N + 1, num=N-n)\n",
    "# media = np.zeros((N - n,))\n",
    "# varianza = np.zeros((N - n,))\n",
    "\n",
    "# media_e = np.zeros((N - n,))\n",
    "# varianza_e = np.zeros((N - n,))\n",
    "\n",
    "# for i in range(len(x)):\n",
    "    \n",
    "#     # media y varianzas teoricas\n",
    "#     media[i] = E(n, i)\n",
    "#     varianza[i] = np.sqrt(Var(n, i))\n",
    "    \n",
    "#     # media y varianzas empiricas\n",
    "#     media_e[i] = np.mean(PROCESOS[:,i])\n",
    "#     varianza_e[i] = np.sqrt(np.var(PROCESOS[:,i]))\n",
    "\n",
    "# plt.plot(t, media, color='g', alpha=0.6, label='$\\mu, \\sigma^2$ teoria')\n",
    "# plt.plot(t, media + varianza, t, media - varianza, color='g', alpha=0.3)\n",
    "\n",
    "# plt.plot(t, media_e, color='k', alpha=0.6, label='$\\mu, \\sigma^2$ empirica')\n",
    "# plt.plot(t, media_e + varianza_e, t, media_e - varianza_e, color='k', alpha=0.3)\n",
    "\n",
    "# plt.plot(proceso, color='b', label='proceso')\n",
    "# plt.hlines(u,0,N, color='k', linestyles='dashed', label='umbral')\n",
    "# plt.plot(np.where(proceso >= u)[0][0], u, '*')\n",
    "# plt.plot(n, proceso[n], '*')\n",
    "# # plt.ylim(bottom=0)\n",
    "# plt.ylim(top=u*1.2, bottom=0)\n",
    "# plt.legend(), plt.ylabel('x'), plt.xlabel('t')\n",
    "# plt.title('Proceso y simulaciones MC $a_1={}, k={}, \\sigma={}, u={}$'.format(a1, K, sigma, u))\n",
    "# plt.show()\n",
    "\n",
    "### CALCULO DE HISTOGRAMA ###\n",
    "histograma_MC = np.zeros((N,))\n",
    "x_histograma_MC = np.arange(0, N)\n",
    "# print(FPT)\n",
    "for f in FPT:\n",
    "    histograma_MC[f] += 1\n",
    "\n",
    "plt.plot(x_histograma_MC, histograma_MC / np.sum(histograma_MC), label='MC')\n",
    "plt.title('histograma de FPT')\n",
    "print(n)\n",
    "print(np.where(proceso >= u)[0][0])\n",
    "plt.vlines(np.where(proceso >= u)[0][0] - n, 0, np.max(histograma_MC / np.sum(histograma_MC)))\n",
    "plt.show()"
   ]
  },
  {
   "cell_type": "markdown",
   "metadata": {},
   "source": [
    "Ahora se debe calcular la distribución de probabilidad según el paper de referencia\n",
    "\n",
    "Para ello se utiliza el sistema de ecuaciones expresado en el paper:\n",
    "\n",
    "$\n",
    "\\left[{\\begin{array}[c]\\\\\n",
    "        Pr(a_1) \\\\ Pr(a_2) \\\\ ... \\\\ Pr(a_k) \n",
    "\\end{array} }\\right] = \\Theta \\times \\left[{\\begin{array}[c] \n",
    "    q_1 \\\\ q_2 \\\\ ... \\\\ q_k\n",
    "\\end{array}}\\right]\n",
    "$\n"
   ]
  },
  {
   "cell_type": "markdown",
   "metadata": {},
   "source": [
    "Comprobar que la distribución de probabilidad de la variable dada sea la misma que la pronosticada por monte carlo. Para ello se tomará un instante arbitrario y se graficará el histograma de la variable. Además de calcular la media y la varianza de la distribución que debería resultar en aquel momento."
   ]
  },
  {
   "cell_type": "code",
   "execution_count": 7,
   "metadata": {
    "scrolled": false
   },
   "outputs": [
    {
     "name": "stdout",
     "output_type": "stream",
     "text": [
      "0.975609756097561945\n",
      " 0.0\n",
      "\n",
      " 1.0\n"
     ]
    },
    {
     "data": {
      "image/png": "[encoded data removed]",
      "text/plain": [
       "<Figure size 288x288 with 1 Axes>"
      ]
     },
     "metadata": {
      "needs_background": "light"
     },
     "output_type": "display_data"
    },
    {
     "data": {
      "image/png": "[encoded data removed]",
      "text/plain": [
       "<Figure size 432x288 with 1 Axes>"
      ]
     },
     "metadata": {
      "needs_background": "light"
     },
     "output_type": "display_data"
    }
   ],
   "source": [
    "### DEFINICION DE INTEGRANDO PARA CALCULO DE THETA ###\n",
    "def integrand(x, n, i, j):\n",
    "\n",
    "    aux = norm.pdf( x , loc=E(n, j), scale=np.sqrt(Var(n, j) )) # bien\n",
    "    aux *= 1 - norm.cdf(u, loc=E(n + i, i - j, x), scale=np.sqrt(Var(n + i, i - j, x)) )\n",
    "    return aux\n",
    "\n",
    "\n",
    "### CALCULO DE DISTRIBUCION DE ACUERDO AL PAPER ###\n",
    "k = N - n ######################### cantidad de iteraciones\n",
    "A = np.zeros((k,)) ################ vector de Pr(a)\n",
    "theta = np.zeros((k,k)) ########### matriz theta\n",
    "\n",
    "for i in range(k):\n",
    "    \n",
    "    A[i] = 1 - norm.cdf(u, loc=E(n,i + 1), scale=np.sqrt(Var(n,i + 1))) # bien\n",
    "    \n",
    "    theta[i, i] = 1\n",
    "    print('\\r{}'.format(i/k), end='', flush=True)\n",
    "    \n",
    "    for j in range(i): # i,j\n",
    "        \n",
    "        aux = 1 - norm.cdf(u, loc=E(n, j + 1), scale=np.sqrt(Var(n, j + 1)))\n",
    "        \n",
    "        ### se agrega para que no colapse el calculo, ya que si la probabilidad es nula\n",
    "        ## el valor final tambien debe ser nulo, solo en el caso de que realmente sea nulo\n",
    "        # fix\n",
    "        if aux == 0:\n",
    "            theta[i, j] = 0\n",
    "        else:\n",
    "            theta[i, j] = 1 / aux\n",
    "            # este metodo se debe aproximar por un calculo discreto\n",
    "            integral = integrate.quad(integrand, u, np.inf, args=(n, i + 1, j + 1))\n",
    "            \n",
    "            theta[i, j] *= integral[0]\n",
    "#             theta[i, j] = 1\n",
    "            \n",
    "print('\\n',np.min(theta))\n",
    "print('\\n',np.max(theta))\n",
    "plt.matshow(theta)\n",
    "plt.show()\n",
    "plt.plot(A), plt.title('vector de $Pr(a_i)$'), plt.ylabel('$Pr(a_i)$'), plt.xlabel('i')\n",
    "plt.show()"
   ]
  },
  {
   "cell_type": "markdown",
   "metadata": {},
   "source": [
    "Se debe calcular la probabilidad de forma analítica con lo que entregó el profe."
   ]
  },
  {
   "cell_type": "code",
   "execution_count": 8,
   "metadata": {},
   "outputs": [
    {
     "data": {
      "image/png": "[encoded data removed]",
      "text/plain": [
       "<Figure size 432x288 with 1 Axes>"
      ]
     },
     "metadata": {
      "needs_background": "light"
     },
     "output_type": "display_data"
    }
   ],
   "source": [
    "### CALCULO SIMPLE DE PROBABILIDAD PARA FPT ###\n",
    "P_h = np.zeros((N - n,))\n",
    "P_f = np.zeros((N - n,))\n",
    "P = np.zeros((N - n + 1,))\n",
    "\n",
    "P_h[0] = 1\n",
    "P_f[0] = 0\n",
    "\n",
    "for i in range(1,N - n):\n",
    "    P_f[i] = norm.cdf((media[i] - u) / np.sqrt(varianza[i]))\n",
    "    P_h[i] = (1 - P_f[i - 1]) * P_h[i - 1]\n",
    "    P[i] = P_f[i] * P_h[i]\n",
    "P[len(P) - 1] = 1 - np.sum(P[: len(P) - 1])\n",
    "\n",
    "### CALCULO DE FORMA MATRICIAL DE LA DISTRIBUCION DE PROBABILIDAD DE ACUERDO A PAPER\n",
    "q = np.matmul(np.linalg.inv(theta), A)\n",
    "\n",
    "plt.plot(x_histograma_MC, histograma_MC / np.sum(histograma_MC), label='MC')\n",
    "plt.plot(np.array(range(len(q))) + 1, q, label='paper')\n",
    "plt.xlabel('t')\n",
    "# plt.vlines(np.where(proceso >= u)[0][0] - n, 0, np.max(q), color='r', label='FPT proceso')\n",
    "# plt.plot(P, 'go', label='simple prediction')\n",
    "plt.ylabel('p')\n",
    "plt.title('Distribución de FPT $\\sigma^2 =${}'.format(sigma))\n",
    "plt.legend(loc='best')\n",
    "plt.show()"
   ]
  },
  {
   "cell_type": "code",
   "execution_count": null,
   "metadata": {},
   "outputs": [],
   "source": []
  },
  {
   "cell_type": "code",
   "execution_count": null,
   "metadata": {},
   "outputs": [],
   "source": []
  },
  {
   "cell_type": "code",
   "execution_count": null,
   "metadata": {},
   "outputs": [],
   "source": []
  },
  {
   "cell_type": "code",
   "execution_count": null,
   "metadata": {},
   "outputs": [],
   "source": []
  },
  {
   "cell_type": "code",
   "execution_count": null,
   "metadata": {},
   "outputs": [],
   "source": []
  }
 ],
 "metadata": {
  "kernelspec": {
   "display_name": "Python 3",
   "language": "python",
   "name": "python3"
  },
  "language_info": {
   "codemirror_mode": {
    "name": "ipython",
    "version": 3
   },
   "file_extension": ".py",
   "mimetype": "text/x-python",
   "name": "python",
   "nbconvert_exporter": "python",
   "pygments_lexer": "ipython3",
   "version": "3.8.1"
  }
 },
 "nbformat": 4,
 "nbformat_minor": 4
}
