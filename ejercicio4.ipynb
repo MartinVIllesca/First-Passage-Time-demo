{
 "cells": [
  {
   "cell_type": "markdown",
   "metadata": {},
   "source": [
    "# Ejercicio 4\n",
    "\n",
    "Real filtro de partículas (parte de pronóstico). Se toma un instante inicial y se rescata la distribución de probabilidad calculada de forma teórica para el proceso, se samplea un conjunto de partículas y se propagan por el modelo para rescatar la pdf.\n",
    "\n",
    "Primero, se simula el proceso por MC y luego se rescata la pdf con la parte de pronóstico del filtro de partículas."
   ]
  },
  {
   "cell_type": "code",
   "execution_count": 1,
   "metadata": {},
   "outputs": [],
   "source": [
    "import numpy as np\n",
    "import matplotlib.pyplot as plt\n",
    "from scipy.stats import norm\n",
    "import time"
   ]
  },
  {
   "cell_type": "code",
   "execution_count": 2,
   "metadata": {},
   "outputs": [],
   "source": [
    "# creacion de histogramas\n",
    "def histograma(hist, bins, alpha=1, color=None, label=''):\n",
    "    X = np.linspace(0, len(hist), num=bins + 1)\n",
    "    result = np.zeros(X.shape)\n",
    "    j = 0\n",
    "    l = 0\n",
    "    for i, h in enumerate(hist):\n",
    "        if i > X[j]:\n",
    "            result[j] = np.sum(hist[l:i])\n",
    "            l = i\n",
    "            j += 1\n",
    "    plt.bar(X, result, width=len(hist)/bins + 1, alpha=alpha, color=color, label=label)\n",
    "    return [X, result]\n",
    "            "
   ]
  },
  {
   "cell_type": "code",
   "execution_count": 3,
   "metadata": {},
   "outputs": [
    {
     "name": "stdout",
     "output_type": "stream",
     "text": [
      "Elapsed time: 1.4374s\n",
      "50000\n",
      "1.0 50000\n"
     ]
    },
    {
     "data": {
      "image/png": "[encoded data removed]",
      "text/plain": [
       "<Figure size 432x288 with 1 Axes>"
      ]
     },
     "metadata": {
      "needs_background": "light"
     },
     "output_type": "display_data"
    }
   ],
   "source": [
    "# primero se crea el proceso y se samplea con MC la ground truth\n",
    "\n",
    "x_0 = 1\n",
    "N = 100\n",
    "\n",
    "proceso = np.zeros((N,))\n",
    "proceso[0] = x_0\n",
    "a1 = 1.01\n",
    "b1 = 0.75\n",
    "sigma = 0.8\n",
    "np.random.seed(32)\n",
    "u = 8\n",
    "K = 0.5\n",
    "\n",
    "# definicion de las iteraciones de MC\n",
    "M = 50000\n",
    "PROCESOS = np.zeros((N,M))\n",
    "PROCESOS[0, :] = x_0\n",
    "np.random.seed(42)\n",
    "\n",
    "cuentas = np.zeros((M,))\n",
    "histogram_MC = np.zeros((N,))\n",
    "\n",
    "I, J = [13, 26]\n",
    "\n",
    "# media y varianza analiticas\n",
    "E = np.zeros((N,))\n",
    "Var = np.zeros((N,))\n",
    "\n",
    "E[0] = proceso[0]\n",
    "\n",
    "start = time.time()\n",
    "\n",
    "for i in range(I):\n",
    "    proceso[i + 1] = K + a1 * proceso[i] + np.random.normal(0, sigma)\n",
    "    PROCESOS[i + 1, :] = K + a1 * PROCESOS[i,:] + np.random.normal(0, sigma, size=(M,))\n",
    "    \n",
    "    anterior = np.sum(cuentas != 0)\n",
    "    checkeo = PROCESOS[i, :] > u\n",
    "    for j in range(M):\n",
    "        if cuentas[j] == 0.0 and checkeo[j]: cuentas[j] = i\n",
    "        \n",
    "    histogram_MC[i] = (np.sum(cuentas != 0) - anterior) / M\n",
    "    \n",
    "    # media y varianza\n",
    "    E[i + 1] = K + a1 * E[i]\n",
    "    Var[i + 1] = a1 ** 2 * Var[i] + sigma**2\n",
    "    \n",
    "\n",
    "for i in range(I, J):\n",
    "    proceso[i + 1] = K + a1 * b1 * proceso[i] + np.random.normal(0, sigma)\n",
    "    PROCESOS[i + 1, :] = K + a1 * b1 * PROCESOS[i,:] + np.random.normal(0, sigma, size=(M,))\n",
    "\n",
    "    anterior = np.sum(cuentas != 0)\n",
    "    checkeo = PROCESOS[i, :] > u\n",
    "    for j in range(M):\n",
    "        if cuentas[j] == 0.0 and checkeo[j]: cuentas[j] = i\n",
    "        \n",
    "    histogram_MC[i] = (np.sum(cuentas != 0) - anterior) / M\n",
    "    \n",
    "    # media y varianza\n",
    "    E[i + 1] = K + a1 * b1 * E[i]\n",
    "    Var[i + 1] = a1 ** 2 * b1 ** 2 * Var[i] + sigma**2\n",
    "\n",
    "for i in range(J, int((N-1))):\n",
    "    proceso[i + 1] = K + a1 * proceso[i] + np.random.normal(0, sigma)\n",
    "    PROCESOS[i + 1, :] = K + a1 * PROCESOS[i,:] + np.random.normal(0, sigma, size=(M,))\n",
    "    \n",
    "    anterior = np.sum(cuentas != 0)\n",
    "    checkeo = PROCESOS[i, :] > u\n",
    "    for j in range(M):\n",
    "        if cuentas[j] == 0.0 and checkeo[j]: cuentas[j] = i\n",
    "        \n",
    "    histogram_MC[i] = (np.sum(cuentas != 0) - anterior) / M\n",
    "    \n",
    "    # media y varianza\n",
    "    E[i + 1] = K + a1 * E[i]\n",
    "    Var[i + 1] = a1 ** 2 * Var[i] + sigma**2\n",
    "end = time.time()\n",
    "print('Elapsed time: {:.4f}s'.format(end - start))\n",
    "\n",
    "print(np.sum(cuentas != 0))\n",
    "\n",
    "# plt.plot(PROCESOS, color='k', alpha=0.1)\n",
    "# plt.plot(proceso, color='r', lw=3)\n",
    "# plt.plot(E, color='g', lw=5)\n",
    "# plt.plot(E - np.sqrt(Var), color='g', lw=5, alpha=0.5)\n",
    "# plt.plot(E + np.sqrt(Var), color='g', lw=5, alpha=0.5)\n",
    "# plt.hlines(u,0,N)\n",
    "# plt.ylim(top=u*2.4, bottom=-u)\n",
    "# plt.title('Simulaciones con Monte Carlo del proceso $a_1={}, b_1={}, k={}, \\sigma={}$'.format(a1,b1,K,sigma))\n",
    "# plt.show()\n",
    "\n",
    "print(np.sum(histogram_MC), M)\n",
    "plt.plot(histogram_MC)\n",
    "plt.title('Distribución aproximada por MC con conteo')\n",
    "plt.show()"
   ]
  },
  {
   "cell_type": "markdown",
   "metadata": {},
   "source": [
    "A continuación, se sacará la parte del filtrado"
   ]
  },
  {
   "cell_type": "code",
   "execution_count": 8,
   "metadata": {
    "scrolled": false
   },
   "outputs": [
    {
     "name": "stdout",
     "output_type": "stream",
     "text": [
      "Elapsed time: 0.0251s\n",
      "1.0 400\n"
     ]
    },
    {
     "data": {
      "image/png": "[encoded data removed]",
      "text/plain": [
       "<Figure size 432x288 with 1 Axes>"
      ]
     },
     "metadata": {
      "needs_background": "light"
     },
     "output_type": "display_data"
    }
   ],
   "source": [
    "# se toma el instante inicial\n",
    "k = 0\n",
    "m = 400 # cantidad de particulasnumpy \n",
    "particulas = np.zeros((N,m))\n",
    "particulas[k,:] = np.random.normal(E[k], np.sqrt(Var[k]), size=m)\n",
    "# particulas[k,:] = E[k]\n",
    "\n",
    "cuentas2 = np.zeros((m,))\n",
    "histogram_filtro = np.zeros((N,))\n",
    "anterior = 0\n",
    "total = 0\n",
    "indices_bajo_umbral = np.arange(0,N)\n",
    "\n",
    "# paso de propagacion de las particulas\n",
    "\n",
    "start = time.time()\n",
    "for i in range(k, I):    \n",
    "    anterior = total\n",
    "    for j, p in enumerate(particulas[i, :]):\n",
    "        if cuentas2[j] == 0.0 and p > u:\n",
    "            total += 1\n",
    "            cuentas2[j] = i\n",
    "            \n",
    "    histogram_filtro[i] = (total - anterior) / (m)\n",
    "    \n",
    "    particulas[i + 1, :] = K + a1 * particulas[i,:] + np.random.normal(0, sigma, size=m)\n",
    "\n",
    "for i in range(I, J):\n",
    "    anterior = total\n",
    "    for j, p in enumerate(particulas[i, :]):\n",
    "        if cuentas2[j] == 0.0 and p > u:\n",
    "            total += 1\n",
    "            cuentas2[j] = i\n",
    "            \n",
    "    histogram_filtro[i] = (total - anterior) / (m)\n",
    "    \n",
    "    particulas[i + 1, :] = K + a1 * b1 * particulas[i,:] + np.random.normal(0, sigma, size=m)\n",
    "\n",
    "for i in range(J, int((N-1))):    \n",
    "    anterior = total\n",
    "    for j, p in enumerate(particulas[i, :]):\n",
    "        if cuentas2[j] == 0.0 and p > u:\n",
    "            total += 1\n",
    "            cuentas2[j] = i\n",
    "            \n",
    "    histogram_filtro[i] = (total - anterior) / (m)\n",
    "    \n",
    "    particulas[i + 1, :] = K + a1 * particulas[i,:] + np.random.normal(0, sigma, size=m)\n",
    "    \n",
    "end = time.time()\n",
    "print('Elapsed time: {:.4f}s'.format(end - start))\n",
    "\n",
    "print(np.sum(histogram_filtro), m)\n",
    "plt.plot(histogram_filtro, label='algoritmo', color='orange')\n",
    "plt.plot(histogram_MC, label='MC', color='b')\n",
    "plt.title('Distribución aproximada')\n",
    "plt.legend()\n",
    "plt.show()\n"
   ]
  },
  {
   "cell_type": "code",
   "execution_count": 9,
   "metadata": {},
   "outputs": [
    {
     "data": {
      "image/png": "[encoded data removed]",
      "text/plain": [
       "<Figure size 432x288 with 1 Axes>"
      ]
     },
     "metadata": {
      "needs_background": "light"
     },
     "output_type": "display_data"
    }
   ],
   "source": [
    "x, h = histograma(histogram_MC, bins=len(histogram_MC), alpha=0.5, color='b', label='MC')\n",
    "x, h = histograma(histogram_filtro, bins=len(histogram_filtro), alpha=0.5, color='orange', label='prediccion')\n",
    "# plt.plot(histogram_filtro, label='prediccion', color='orange')\n",
    "# plt.plot(histogram_MC, label='MC', color='b')\n",
    "plt.legend()\n",
    "plt.xlabel('fpt')\n",
    "plt.ylabel('frecuencia')\n",
    "plt.title('Histogramas de comparacion')\n",
    "plt.show()\n"
   ]
  },
  {
   "cell_type": "code",
   "execution_count": 6,
   "metadata": {
    "scrolled": false
   },
   "outputs": [
    {
     "name": "stdout",
     "output_type": "stream",
     "text": [
      "[0.23001377 0.26000175 0.10575192 0.37361911 0.3618841  0.4086277\n",
      " 0.38855349 0.47550577 0.27315788 0.49257521] 3.3696906906103994\n",
      "[1. 1. 1. 1. 1. 1. 1. 1. 1. 1.] 10.0\n",
      "[1. 1. 1. 1. 1. 1. 1. 1. 1. 1.] 10.0\n",
      "[1. 1. 1. 1. 1. 1. 1. 1. 1. 1.] 10.0\n",
      "[1. 1. 1. 1. 1. 1. 1. 1. 1. 1.] 10.0\n",
      "[1. 1. 1. 1. 1. 1. 1. 1. 1. 1.] 10.0\n",
      "[1. 1. 1. 1. 1. 1. 1. 1. 1. 1.] 10.0\n",
      "[1. 1. 1. 1. 1. 1. 1. 1. 1. 1.] 10.0\n",
      "[1. 1. 1. 1. 1. 1. 1. 1. 1. 1.] 10.0\n",
      "[1. 1. 1. 1. 1. 1. 1. 1. 1. 1.] 10.0\n",
      "[1. 1. 1. 1. 1. 1. 1. 1. 1. 1.] 10.0\n",
      "[1. 1. 1. 1. 1. 1. 1. 1. 1. 1.] 10.0\n",
      "Elapsed time: 0.0118s\n",
      "3.9087480497813276 10\n"
     ]
    },
    {
     "data": {
      "image/png": "[encoded data removed]",
      "text/plain": [
       "<Figure size 432x288 with 1 Axes>"
      ]
     },
     "metadata": {
      "needs_background": "light"
     },
     "output_type": "display_data"
    }
   ],
   "source": [
    "# se toma el instante inicial\n",
    "k = 1\n",
    "m = 10 # cantidad de particulasnumpy \n",
    "particulas = np.zeros((N,m))\n",
    "particulas[k,:] = np.random.normal(E[k], np.sqrt(Var[k]), size=m)\n",
    "# particulas[k,:] = E[k]\n",
    "\n",
    "histogram_filtro = np.zeros((N,))\n",
    "promedio_particulas = np.zeros((N,))\n",
    "anterior = 0\n",
    "total = 0\n",
    "indices_bajo_umbral = np.arange(0,N)\n",
    "\n",
    "peso_particula = np.ones((N,m))\n",
    "\n",
    "peso_particula[k,:] = norm.pdf(particulas[k,:], loc=E[k], scale=np.sqrt(Var[k]))\n",
    "# paso de propagacion de las particulas\n",
    "\n",
    "start = time.time()\n",
    "for i in range(k, I):\n",
    "    \n",
    "    print(peso_particula[i, :], np.sum(peso_particula[i, :]))\n",
    "    anterior = total\n",
    "    p_bajo_u = 0\n",
    "    bajo_u = 0\n",
    "    idx_sobre_u = []\n",
    "    for j, p in enumerate(particulas[i, :]):\n",
    "        \n",
    "        if p < u:\n",
    "            p_bajo_u += p\n",
    "            bajo_u += 1\n",
    "        else:\n",
    "            total += 1\n",
    "#             l = u + 1\n",
    "#             while(l > u):\n",
    "#                 l = np.random.normal(E[i], np.sqrt(Var[i]))\n",
    "#             l = np.random.uniform(np.min(particulas[i,:]), u)\n",
    "            particulas[i,j] = u\n",
    "            idx_sobre_u.append(j)\n",
    "            \n",
    "#     print(particulas[i, :])\n",
    "#     particulas[i, np.array(idx_sobre_u, dtype=int)] = p_bajo_u / bajo_u\n",
    "\n",
    "    particulas[i + 1, :] = K + a1 * particulas[i,:] + np.random.normal(0, sigma, size=m)\n",
    "    histogram_filtro[i] = (total - anterior) / (m + anterior)\n",
    "    \n",
    "    promedio_particulas[i] = np.mean(particulas[i,:])\n",
    "    \n",
    "#     print(total - anterior, histogram_filtro[i], np.sum(particulas[i, :] < u))\n",
    "\n",
    "for i in range(I, J):\n",
    "    \n",
    "    anterior = total\n",
    "    p_bajo_u = 0\n",
    "    bajo_u = 0\n",
    "    idx_sobre_u = []\n",
    "    for j, p in enumerate(particulas[i, :]):\n",
    "        \n",
    "        if p < u:\n",
    "            p_bajo_u += p\n",
    "            bajo_u += 1\n",
    "        else:\n",
    "            total += 1\n",
    "#             l = u + 1\n",
    "#             while(l > u):\n",
    "#                 l = np.random.normal(E[i], np.sqrt(Var[i]))\n",
    "#             l = np.random.uniform(np.min(particulas[i,:]), u)\n",
    "            particulas[i,j] = u\n",
    "            idx_sobre_u.append(j)\n",
    "            \n",
    "#     print(particulas[i, :])\n",
    "#     particulas[i, np.array(idx_sobre_u, dtype=int)] = p_bajo_u / bajo_u\n",
    "\n",
    "    particulas[i + 1, :] = K + a1 * b1 * particulas[i,:] + np.random.normal(0, sigma, size=m)\n",
    "    histogram_filtro[i] = (total - anterior) / (m + anterior)\n",
    "    \n",
    "    promedio_particulas[i] = np.mean(particulas[i,:])\n",
    "    \n",
    "#     print(total - anterior, histogram_filtro[i], np.sum(particulas[i, :] < u))\n",
    "    \n",
    "\n",
    "for i in range(J, int((N-1))):\n",
    "    \n",
    "    anterior = total\n",
    "    p_bajo_u = 0\n",
    "    bajo_u = 0\n",
    "    idx_sobre_u = []\n",
    "    for j, p in enumerate(particulas[i, :]):\n",
    "        \n",
    "        if p < u:\n",
    "            p_bajo_u += p\n",
    "            bajo_u += 1\n",
    "        else:\n",
    "            total += 1\n",
    "#             l = u + 1\n",
    "#             while(l > u):\n",
    "#                 l = np.random.normal(E[i], np.sqrt(Var[i]))\n",
    "#             l = np.random.uniform(np.min(particulas[i,:]), u)\n",
    "            particulas[i,j] = u\n",
    "            idx_sobre_u.append(j)\n",
    "            \n",
    "#     print(particulas[i, :])\n",
    "#     particulas[i, np.array(idx_sobre_u, dtype=int)] = p_bajo_u / bajo_u\n",
    "\n",
    "    particulas[i + 1, :] = K + a1 * particulas[i,:] + np.random.normal(0, sigma, size=m)\n",
    "    histogram_filtro[i] = (total - anterior) / (m + anterior)\n",
    "    \n",
    "    promedio_particulas[i] = np.mean(particulas[i,:])\n",
    "    \n",
    "#     print(total - anterior, histogram_filtro[i], np.sum(particulas[i, :] < u))\n",
    "    \n",
    "    \n",
    "end = time.time()\n",
    "print('Elapsed time: {:.4f}s'.format(end - start))\n",
    "\n",
    "\n",
    "# plt.plot(particulas, color='k', alpha=0.1)\n",
    "# plt.plot(proceso, color='r', lw=3)\n",
    "# plt.plot(E, color='g', lw=5)\n",
    "# plt.plot(E - np.sqrt(Var), color='g', lw=5, alpha=0.5)\n",
    "# plt.plot(E + np.sqrt(Var), color='g', lw=5, alpha=0.5)\n",
    "# plt.plot(promedio_particulas, color='y', lw = 5, alpha=0.5)\n",
    "# # plt.hlines(u,0,N)\n",
    "# plt.ylim(top=u*2.4, bottom=-u)\n",
    "# plt.title('Simulaciones con Monte Carlo del proceso $a_1={}, b_1={}, k={}, \\sigma={}$'.format(a1,b1,K,sigma))\n",
    "# plt.show()\n",
    "\n",
    "print(np.sum(histogram_filtro), m)\n",
    "plt.plot(histogram_filtro, label='algoritmo', color='orange')\n",
    "plt.plot(histogram_MC, label='MC', color='b')\n",
    "plt.title('Distribución aproximada')\n",
    "plt.legend()\n",
    "plt.show()\n"
   ]
  },
  {
   "cell_type": "code",
   "execution_count": 7,
   "metadata": {},
   "outputs": [
    {
     "data": {
      "image/png": "[encoded data removed]",
      "text/plain": [
       "<Figure size 432x288 with 1 Axes>"
      ]
     },
     "metadata": {
      "needs_background": "light"
     },
     "output_type": "display_data"
    }
   ],
   "source": [
    "x, h = histograma(histogram_MC, bins=20, alpha=0.5, color='b', label='MC')\n",
    "x, h = histograma(histogram_filtro, bins=20, alpha=0.5, color='orange', label='prediccion')\n",
    "# plt.plot(histogram_filtro, label='prediccion', color='orange')\n",
    "# plt.plot(histogram_MC, label='MC', color='b')\n",
    "plt.legend()\n",
    "plt.xlabel('fpt')\n",
    "plt.ylabel('frecuencia')\n",
    "plt.title('Histogramas de comparacion')\n",
    "plt.show()\n"
   ]
  },
  {
   "cell_type": "code",
   "execution_count": null,
   "metadata": {},
   "outputs": [],
   "source": []
  },
  {
   "cell_type": "code",
   "execution_count": null,
   "metadata": {},
   "outputs": [],
   "source": []
  },
  {
   "cell_type": "code",
   "execution_count": null,
   "metadata": {},
   "outputs": [],
   "source": []
  },
  {
   "cell_type": "code",
   "execution_count": null,
   "metadata": {},
   "outputs": [],
   "source": []
  },
  {
   "cell_type": "code",
   "execution_count": null,
   "metadata": {},
   "outputs": [],
   "source": []
  },
  {
   "cell_type": "code",
   "execution_count": null,
   "metadata": {},
   "outputs": [],
   "source": []
  }
 ],
 "metadata": {
  "kernelspec": {
   "display_name": "Python 3.8.1 64-bit ('stats': conda)",
   "language": "python",
   "name": "python38164bitstatsconda657e2278ee574724a15ad00436d356aa"
  },
  "language_info": {
   "codemirror_mode": {
    "name": "ipython",
    "version": 3
   },
   "file_extension": ".py",
   "mimetype": "text/x-python",
   "name": "python",
   "nbconvert_exporter": "python",
   "pygments_lexer": "ipython3",
   "version": "3.8.1"
  }
 },
 "nbformat": 4,
 "nbformat_minor": 4
}
