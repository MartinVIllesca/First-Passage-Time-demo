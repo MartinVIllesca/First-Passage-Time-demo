{
 "cells": [
  {
   "cell_type": "markdown",
   "metadata": {},
   "source": [
    "# Ejercicio 4\n",
    "\n",
    "Real filtro de partículas (parte de pronóstico). Se toma un instante inicial y se rescata la distribución de probabilidad calculada de forma teórica para el proceso, se samplea un conjunto de partículas y se propagan por el modelo para rescatar la pdf.\n",
    "\n",
    "Primero, se simula el proceso por MC y luego se rescata la pdf con la parte de pronóstico del filtro de partículas."
   ]
  },
  {
   "cell_type": "code",
   "execution_count": 1,
   "metadata": {},
   "outputs": [],
   "source": [
    "import numpy as np\n",
    "import matplotlib.pyplot as plt\n",
    "from scipy.stats import norm\n",
    "import time"
   ]
  },
  {
   "cell_type": "code",
   "execution_count": 2,
   "metadata": {},
   "outputs": [],
   "source": [
    "# creacion de histogramas\n",
    "def histograma(hist, bins, alpha=1, color=None, label=''):\n",
    "    X = np.linspace(0, len(hist), num=bins + 1)\n",
    "    result = np.zeros(X.shape)\n",
    "    j = 0\n",
    "    l = 0\n",
    "    for i, h in enumerate(hist):\n",
    "        if i > X[j]:\n",
    "            result[j] = np.sum(hist[l:i])\n",
    "            l = i\n",
    "            j += 1\n",
    "    plt.bar(X, result, width=len(hist)/bins + 1, alpha=alpha, color=color, label=label)\n",
    "    return [X, result]\n",
    "            "
   ]
  },
  {
   "cell_type": "code",
   "execution_count": 3,
   "metadata": {},
   "outputs": [],
   "source": [
    "def resamplear(xk, wk, k):\n",
    "    wk = wk + (1 - np.sum(wk)) / len(wk)\n",
    "    ns = len(wk)\n",
    "#     print(np.sum(wk))\n",
    "    idx = np.random.choice(range(0, ns), k, p=wk)\n",
    "    xk = xk[idx]\n",
    "    wk = np.ones((ns,)) * (1/ns)\n",
    "    return [xk, wk, idx]"
   ]
  },
  {
   "cell_type": "code",
   "execution_count": 4,
   "metadata": {},
   "outputs": [
    {
     "name": "stdout",
     "output_type": "stream",
     "text": [
      "Elapsed time: 95.6079s\n",
      "2999998\n",
      "0.9999993333333337 3000000\n"
     ]
    },
    {
     "data": {
      "image/png": "[encoded data removed]",
      "text/plain": [
       "<Figure size 432x288 with 1 Axes>"
      ]
     },
     "metadata": {
      "needs_background": "light"
     },
     "output_type": "display_data"
    }
   ],
   "source": [
    "# primero se crea el proceso y se samplea con MC la ground truth\n",
    "\n",
    "x_0 = 1\n",
    "N = 100\n",
    "\n",
    "proceso = np.zeros((N,))\n",
    "proceso[0] = x_0\n",
    "a1 = 1.01\n",
    "b1 = 0.75\n",
    "sigma = 0.8\n",
    "np.random.seed(32)\n",
    "u = 8\n",
    "K = 0.5\n",
    "\n",
    "# definicion de las iteraciones de MC\n",
    "M = 1000000\n",
    "PROCESOS = np.zeros((N,M))\n",
    "PROCESOS[0, :] = x_0\n",
    "np.random.seed(42)\n",
    "\n",
    "cuentas = np.zeros((M,))\n",
    "histogram_MC = np.zeros((N,))\n",
    "\n",
    "I, J = [13, 26]\n",
    "\n",
    "# media y varianza analiticas\n",
    "E = np.zeros((N,))\n",
    "Var = np.zeros((N,))\n",
    "\n",
    "E[0] = proceso[0]\n",
    "\n",
    "start = time.time()\n",
    "\n",
    "for i in range(I):\n",
    "    proceso[i + 1] = K + a1 * proceso[i] + np.random.normal(0, sigma)\n",
    "    PROCESOS[i + 1, :] = K + a1 * PROCESOS[i,:] + np.random.normal(0, sigma, size=(M,))\n",
    "    \n",
    "    anterior = np.sum(cuentas != 0)\n",
    "    checkeo = PROCESOS[i, :] > u\n",
    "    for j in range(M):\n",
    "        if cuentas[j] == 0.0 and checkeo[j]: cuentas[j] = i\n",
    "        \n",
    "    histogram_MC[i] = (np.sum(cuentas != 0) - anterior) / M\n",
    "    \n",
    "    # media y varianza\n",
    "    E[i + 1] = K + a1 * E[i]\n",
    "    Var[i + 1] = a1 ** 2 * Var[i] + sigma**2\n",
    "    \n",
    "\n",
    "for i in range(I, J):\n",
    "    proceso[i + 1] = K + a1 * b1 * proceso[i] + np.random.normal(0, sigma)\n",
    "    PROCESOS[i + 1, :] = K + a1 * b1 * PROCESOS[i,:] + np.random.normal(0, sigma, size=(M,))\n",
    "\n",
    "    anterior = np.sum(cuentas != 0)\n",
    "    checkeo = PROCESOS[i, :] > u\n",
    "    for j in range(M):\n",
    "        if cuentas[j] == 0.0 and checkeo[j]: cuentas[j] = i\n",
    "        \n",
    "    histogram_MC[i] = (np.sum(cuentas != 0) - anterior) / M\n",
    "    \n",
    "    # media y varianza\n",
    "    E[i + 1] = K + a1 * b1 * E[i]\n",
    "    Var[i + 1] = a1 ** 2 * b1 ** 2 * Var[i] + sigma**2\n",
    "\n",
    "for i in range(J, int((N-1))):\n",
    "    proceso[i + 1] = K + a1 * proceso[i] + np.random.normal(0, sigma)\n",
    "    PROCESOS[i + 1, :] = K + a1 * PROCESOS[i,:] + np.random.normal(0, sigma, size=(M,))\n",
    "    \n",
    "    anterior = np.sum(cuentas != 0)\n",
    "    checkeo = PROCESOS[i, :] > u\n",
    "    for j in range(M):\n",
    "        if cuentas[j] == 0.0 and checkeo[j]: cuentas[j] = i\n",
    "        \n",
    "    histogram_MC[i] = (np.sum(cuentas != 0) - anterior) / M\n",
    "    \n",
    "    # media y varianza\n",
    "    E[i + 1] = K + a1 * E[i]\n",
    "    Var[i + 1] = a1 ** 2 * Var[i] + sigma**2\n",
    "end = time.time()\n",
    "print('Elapsed time: {:.4f}s'.format(end - start))\n",
    "\n",
    "print(np.sum(cuentas != 0))\n",
    "\n",
    "# plt.plot(PROCESOS, color='k', alpha=0.1)\n",
    "# plt.plot(proceso, color='r', lw=3)\n",
    "# plt.plot(E, color='g', lw=5)\n",
    "# plt.plot(E - np.sqrt(Var), color='g', lw=5, alpha=0.5)\n",
    "# plt.plot(E + np.sqrt(Var), color='g', lw=5, alpha=0.5)\n",
    "# plt.hlines(u,0,N)\n",
    "# plt.ylim(top=u*2.4, bottom=-u)\n",
    "# plt.title('Simulaciones con Monte Carlo del proceso $a_1={}, b_1={}, k={}, \\sigma={}$'.format(a1,b1,K,sigma))\n",
    "# plt.show()\n",
    "\n",
    "print(np.sum(histogram_MC), M)\n",
    "plt.plot(histogram_MC)\n",
    "plt.title('Distribución aproximada por MC con conteo')\n",
    "plt.show()"
   ]
  },
  {
   "cell_type": "markdown",
   "metadata": {},
   "source": [
    "A continuación, se sacará la parte del filtrado"
   ]
  },
  {
   "cell_type": "code",
   "execution_count": 5,
   "metadata": {
    "scrolled": false
   },
   "outputs": [
    {
     "name": "stdout",
     "output_type": "stream",
     "text": [
      "Elapsed time: 0.0373s\n",
      "1.0 400\n"
     ]
    },
    {
     "data": {
      "image/png": "[encoded data removed]",
      "text/plain": [
       "<Figure size 432x288 with 1 Axes>"
      ]
     },
     "metadata": {
      "needs_background": "light"
     },
     "output_type": "display_data"
    }
   ],
   "source": [
    "# se toma el instante inicial\n",
    "k = 0\n",
    "m = 400 # cantidad de particulasnumpy \n",
    "particulas = np.zeros((N,m))\n",
    "particulas[k,:] = np.random.normal(E[k], np.sqrt(Var[k]), size=m)\n",
    "# particulas[k,:] = E[k]\n",
    "\n",
    "cuentas2 = np.zeros((m,))\n",
    "histogram_filtro = np.zeros((N,))\n",
    "anterior = 0\n",
    "total = 0\n",
    "indices_bajo_umbral = np.arange(0,N)\n",
    "\n",
    "# paso de propagacion de las particulas\n",
    "\n",
    "start = time.time()\n",
    "for i in range(k, I):    \n",
    "    anterior = total\n",
    "    for j, p in enumerate(particulas[i, :]):\n",
    "        if cuentas2[j] == 0.0 and p > u:\n",
    "            total += 1\n",
    "            cuentas2[j] = i\n",
    "            \n",
    "    histogram_filtro[i] = (total - anterior) / (m)\n",
    "    \n",
    "    particulas[i + 1, :] = K + a1 * particulas[i,:] + np.random.normal(0, sigma, size=m)\n",
    "\n",
    "for i in range(I, J):\n",
    "    anterior = total\n",
    "    for j, p in enumerate(particulas[i, :]):\n",
    "        if cuentas2[j] == 0.0 and p > u:\n",
    "            total += 1\n",
    "            cuentas2[j] = i\n",
    "            \n",
    "    histogram_filtro[i] = (total - anterior) / (m)\n",
    "    \n",
    "    particulas[i + 1, :] = K + a1 * b1 * particulas[i,:] + np.random.normal(0, sigma, size=m)\n",
    "\n",
    "for i in range(J, int((N-1))):    \n",
    "    anterior = total\n",
    "    for j, p in enumerate(particulas[i, :]):\n",
    "        if cuentas2[j] == 0.0 and p > u:\n",
    "            total += 1\n",
    "            cuentas2[j] = i\n",
    "            \n",
    "    histogram_filtro[i] = (total - anterior) / (m)\n",
    "    \n",
    "    particulas[i + 1, :] = K + a1 * particulas[i,:] + np.random.normal(0, sigma, size=m)\n",
    "    \n",
    "end = time.time()\n",
    "print('Elapsed time: {:.4f}s'.format(end - start))\n",
    "\n",
    "print(np.sum(histogram_filtro), m)\n",
    "plt.plot(histogram_filtro, label='algoritmo', color='orange')\n",
    "plt.plot(histogram_MC, label='MC', color='b')\n",
    "plt.title('Distribución aproximada')\n",
    "plt.legend()\n",
    "plt.show()\n"
   ]
  },
  {
   "cell_type": "code",
   "execution_count": 6,
   "metadata": {},
   "outputs": [
    {
     "data": {
      "image/png": "[encoded data removed]",
      "text/plain": [
       "<Figure size 432x288 with 1 Axes>"
      ]
     },
     "metadata": {
      "needs_background": "light"
     },
     "output_type": "display_data"
    }
   ],
   "source": [
    "x, h = histograma(histogram_MC, bins=len(histogram_MC), alpha=0.5, color='b', label='MC')\n",
    "x, h = histograma(histogram_filtro, bins=len(histogram_filtro), alpha=0.5, color='orange', label='prediccion')\n",
    "# plt.plot(histogram_filtro, label='prediccion', color='orange')\n",
    "# plt.plot(histogram_MC, label='MC', color='b')\n",
    "plt.legend()\n",
    "plt.xlabel('fpt')\n",
    "plt.ylabel('frecuencia')\n",
    "plt.title('Histogramas de comparacion')\n",
    "plt.show()\n"
   ]
  },
  {
   "cell_type": "code",
   "execution_count": 7,
   "metadata": {},
   "outputs": [
    {
     "name": "stdout",
     "output_type": "stream",
     "text": [
      "Elapsed time: 0.0626s\n",
      "0.9999998509500694 400\n"
     ]
    },
    {
     "data": {
      "image/png": "[encoded data removed]",
      "text/plain": [
       "<Figure size 432x288 with 1 Axes>"
      ]
     },
     "metadata": {
      "needs_background": "light"
     },
     "output_type": "display_data"
    }
   ],
   "source": [
    "# se toma el instante inicial\n",
    "k = 0\n",
    "m = 400 # cantidad de particulasnumpy \n",
    "particulas = np.random.normal(E[k], np.sqrt(Var[k]), size=m)\n",
    "pesos = np.ones((m,)) / m\n",
    "\n",
    "cuentas2 = np.zeros((m,))\n",
    "histogram_filtro = np.zeros((N,))\n",
    "anterior = 0\n",
    "total = 0\n",
    "indices_bajo_umbral = np.arange(0,N)\n",
    "\n",
    "# paso de propagacion de las particulas\n",
    "start = time.time()\n",
    "for i in range(k, I):\n",
    "\n",
    "    # particulas sobre el umbral\n",
    "    idx = np.argsort(particulas)\n",
    "    particulas = particulas[idx]\n",
    "    pesos = pesos[idx]\n",
    "    \n",
    "    p_th = np.argwhere(particulas >= u)\n",
    "    \n",
    "    if len(p_th) > 0:\n",
    "        histogram_filtro[i] = np.sum(pesos[p_th])\n",
    "        n_np = np.sum(pesos[p_th] != 0)\n",
    "        pesos[p_th] = 0\n",
    "        p_u_th = particulas[pesos != 0]\n",
    "        w_u_th = pesos[pesos != 0]\n",
    "        \n",
    "        if len(w_u_th) > 0:\n",
    "            p_new, _, _  = resamplear(p_u_th, w_u_th, n_np)\n",
    "            particulas = np.concatenate((p_new, particulas))\n",
    "            w_aux = np.ones((len(p_new),)) * np.sum(w_u_th) / m\n",
    "            pesos[pesos != 0] = np.sum(w_u_th) / m\n",
    "            pesos = np.concatenate((w_aux, pesos))\n",
    "    particulas = K + a1 * particulas + np.random.normal(0, sigma, size=len(particulas))\n",
    "\n",
    "for i in range(I, J):\n",
    "\n",
    "    # particulas sobre el umbral\n",
    "    idx = np.argsort(particulas)\n",
    "    particulas = particulas[idx]\n",
    "    pesos = pesos[idx]\n",
    "    \n",
    "    p_th = np.argwhere(particulas >= u)\n",
    "    \n",
    "    if len(p_th) > 0:\n",
    "        histogram_filtro[i] = np.sum(pesos[p_th])\n",
    "        n_np = np.sum(pesos[p_th] != 0)\n",
    "        pesos[p_th] = 0\n",
    "        p_u_th = particulas[pesos != 0]\n",
    "        w_u_th = pesos[pesos != 0]\n",
    "        \n",
    "        if len(w_u_th) > 0:\n",
    "            p_new, _, _  = resamplear(p_u_th, w_u_th, n_np)\n",
    "            particulas = np.concatenate((p_new, particulas))\n",
    "            w_aux = np.ones((len(p_new),)) * np.sum(w_u_th) / m\n",
    "            pesos[pesos != 0] = np.sum(w_u_th) / m\n",
    "            pesos = np.concatenate((w_aux, pesos))\n",
    "    particulas = K + a1 * b1 * particulas + np.random.normal(0, sigma, size=len(particulas))\n",
    "\n",
    "for i in range(J, int((N-1))):    \n",
    "\n",
    "    # particulas sobre el umbral\n",
    "    idx = np.argsort(particulas)\n",
    "    particulas = particulas[idx]\n",
    "    pesos = pesos[idx]\n",
    "    \n",
    "    p_th = np.argwhere(particulas >= u)\n",
    "    \n",
    "    if len(p_th) > 0:\n",
    "        histogram_filtro[i] = np.sum(pesos[p_th])\n",
    "        n_np = np.sum(pesos[p_th] != 0)\n",
    "        pesos[p_th] = 0\n",
    "        p_u_th = particulas[pesos != 0]\n",
    "        w_u_th = pesos[pesos != 0]\n",
    "        \n",
    "        if len(w_u_th) > 0:\n",
    "            p_new, _, _  = resamplear(p_u_th, w_u_th, n_np)\n",
    "            particulas = np.concatenate((p_new, particulas))\n",
    "            w_aux = np.ones((len(p_new),)) * np.sum(w_u_th) / m\n",
    "            pesos[pesos != 0] = np.sum(w_u_th) / m\n",
    "            pesos = np.concatenate((w_aux, pesos))\n",
    "\n",
    "    particulas = K + a1 * particulas + np.random.normal(0, sigma, size=len(particulas))\n",
    "    \n",
    "end = time.time()\n",
    "print('Elapsed time: {:.4f}s'.format(end - start))\n",
    "\n",
    "print(np.sum(histogram_filtro), m)\n",
    "plt.plot(histogram_filtro, label='algoritmo', color='orange')\n",
    "plt.plot(histogram_MC, label='MC', color='b')\n",
    "plt.title('Distribución aproximada')\n",
    "plt.legend()\n",
    "plt.show()\n"
   ]
  },
  {
   "cell_type": "code",
   "execution_count": 8,
   "metadata": {},
   "outputs": [
    {
     "data": {
      "image/png": "[encoded data removed]",
      "text/plain": [
       "<Figure size 432x288 with 1 Axes>"
      ]
     },
     "metadata": {
      "needs_background": "light"
     },
     "output_type": "display_data"
    }
   ],
   "source": [
    "x, h = histograma(histogram_MC, bins=len(histogram_MC), alpha=0.5, color='b', label='MC')\n",
    "x, h = histograma(histogram_filtro, bins=len(histogram_filtro), alpha=0.5, color='orange', label='prediccion')\n",
    "# plt.plot(histogram_filtro, label='prediccion', color='orange')\n",
    "# plt.plot(histogram_MC, label='MC', color='b')\n",
    "plt.legend()\n",
    "plt.xlabel('fpt')\n",
    "plt.ylabel('frecuencia')\n",
    "plt.title('Histogramas de comparacion')\n",
    "plt.show()\n"
   ]
  },
  {
   "cell_type": "code",
   "execution_count": null,
   "metadata": {},
   "outputs": [],
   "source": []
  },
  {
   "cell_type": "code",
   "execution_count": null,
   "metadata": {},
   "outputs": [],
   "source": []
  },
  {
   "cell_type": "code",
   "execution_count": null,
   "metadata": {},
   "outputs": [],
   "source": []
  },
  {
   "cell_type": "code",
   "execution_count": null,
   "metadata": {},
   "outputs": [],
   "source": []
  }
 ],
 "metadata": {
  "kernelspec": {
   "display_name": "Python 3.8.1 64-bit ('stats': conda)",
   "language": "python",
   "name": "python38164bitstatsconda657e2278ee574724a15ad00436d356aa"
  },
  "language_info": {
   "codemirror_mode": {
    "name": "ipython",
    "version": 3
   },
   "file_extension": ".py",
   "mimetype": "text/x-python",
   "name": "python",
   "nbconvert_exporter": "python",
   "pygments_lexer": "ipython3",
   "version": "3.8.1"
  }
 },
 "nbformat": 4,
 "nbformat_minor": 4
}
