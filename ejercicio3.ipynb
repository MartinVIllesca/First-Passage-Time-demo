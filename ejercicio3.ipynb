{
 "cells": [
  {
   "cell_type": "markdown",
   "metadata": {},
   "source": [
    "# Ejercicio 3\n",
    "\n",
    "En este notebook se probará el caso donde se tiene un umbral difuso, a modo de ver qué es lo que ocurre con el método de Monte Carlo y el método desarrollado en los ejercicios anteriores.\n",
    "\n",
    "Para ello, se tomará el código creado anteriormente y se realizarán modificaciones para agregar una probabilidad de falla al umbral, donde se tiene que a medida que se avanza hacia el umbral, la probabilidad de falla aumenta de acuerdo a la probabilidad acumulada de una normal centrada en el umbral."
   ]
  },
  {
   "cell_type": "code",
   "execution_count": 1,
   "metadata": {},
   "outputs": [],
   "source": [
    "import numpy as np\n",
    "import matplotlib.pyplot as plt\n",
    "from scipy.stats import norm, bernoulli\n",
    "import scipy.integrate as integrate\n",
    "import time"
   ]
  },
  {
   "cell_type": "code",
   "execution_count": 2,
   "metadata": {},
   "outputs": [],
   "source": [
    "# creacion de histogramas\n",
    "def histograma(hist, bins, alpha=1, color=None, label=''):\n",
    "    X = np.linspace(0, len(hist), num=bins + 1)\n",
    "    result = np.zeros(X.shape)\n",
    "    j = 0\n",
    "    l = 0\n",
    "    for i, h in enumerate(hist):\n",
    "        if i > X[j]:\n",
    "            result[j] = np.sum(hist[l:i])\n",
    "            l = i\n",
    "            j += 1\n",
    "    plt.bar(X, result, width=len(hist)/bins + 1, alpha=alpha, color=color, label=label)\n",
    "    return [X, result]\n",
    "            "
   ]
  },
  {
   "cell_type": "code",
   "execution_count": 3,
   "metadata": {},
   "outputs": [],
   "source": [
    "def resamplear(xk, wk, k):\n",
    "    wk = wk + (1 - np.sum(wk)) / len(wk)\n",
    "    ns = len(wk)\n",
    "#     print(np.sum(wk))\n",
    "    idx = np.random.choice(range(0, ns), k, p=wk)\n",
    "    xk = xk[idx]\n",
    "    wk = np.ones((ns,)) * (1/ns)\n",
    "    return [xk, wk, idx]"
   ]
  },
  {
   "cell_type": "code",
   "execution_count": 26,
   "metadata": {},
   "outputs": [],
   "source": [
    "def KL_dist(p, q):\n",
    "    eps = 1e-9\n",
    "    p = p + eps\n",
    "    q = q + eps\n",
    "    \n",
    "    if len(q) != len(p): raise ValueError('the number of columns in p and q must be the same!')\n",
    "    if np.sum(p) > 1.1 or np.sum(q) > 1.1: raise ValueError('the sum of the vectors must be equal or less than 1')\n",
    "    \n",
    "    kl_dist = p * np.log(p/q)\n",
    "    kl_dist[[math.isnan(j) for j in kl_dist]] = 0\n",
    "    kl_dist = np.sum(kl_dist)\n",
    "    \n",
    "    return kl_dist"
   ]
  },
  {
   "cell_type": "code",
   "execution_count": 4,
   "metadata": {
    "scrolled": false
   },
   "outputs": [
    {
     "name": "stdout",
     "output_type": "stream",
     "text": [
      "Elapsed time: 14.7601s\n",
      "0.998411 1000000\n"
     ]
    },
    {
     "data": {
      "image/png": "[encoded data removed]",
      "text/plain": [
       "<Figure size 432x288 with 1 Axes>"
      ]
     },
     "metadata": {
      "needs_background": "light"
     },
     "output_type": "display_data"
    },
    {
     "data": {
      "image/png": "[encoded data removed]",
      "text/plain": [
       "<Figure size 432x288 with 1 Axes>"
      ]
     },
     "metadata": {
      "needs_background": "light"
     },
     "output_type": "display_data"
    },
    {
     "name": "stdout",
     "output_type": "stream",
     "text": [
      "Graficos Elapsed time: 0.3004s\n"
     ]
    }
   ],
   "source": [
    "# primero se crea el proceso\n",
    "\n",
    "x_0 = 1\n",
    "N = 60\n",
    "\n",
    "proceso = np.zeros((N,))\n",
    "proceso[0] = x_0\n",
    "a1 = 1.01\n",
    "b1 = 0.75\n",
    "sigma = 0.5\n",
    "np.random.seed(32)\n",
    "u = 5\n",
    "sigma_u = 0.8\n",
    "K = 0.3\n",
    "\n",
    "# definicion de las iteraciones de MC\n",
    "M = 1000000\n",
    "PROCESOS = np.zeros((N,M))\n",
    "PROCESOS[0, :] = x_0\n",
    "np.random.seed(42)\n",
    "\n",
    "cuentas = np.zeros((M,))\n",
    "histogram_MC = np.zeros((N,))\n",
    "acumulada = np.zeros((N - 1,))\n",
    "\n",
    "I, J = [13, 26]\n",
    "\n",
    "# media y varianza analiticas\n",
    "E = np.zeros((N,))\n",
    "Var = np.zeros((N,))\n",
    "\n",
    "E[0] = proceso[0]\n",
    "\n",
    "\n",
    "start = time.time()\n",
    "for i in range(I):\n",
    "    proceso[i + 1] = K + a1 * proceso[i] + np.random.normal(0, sigma)\n",
    "    PROCESOS[i + 1, :] = K + a1 * PROCESOS[i,:] + np.random.normal(0, sigma, size=(M,))\n",
    "    \n",
    "    # en este paso hay que calcular la probabilidad de que falle por solo estar cerca del umbral\n",
    "    # hay que sacar la cdf de una normal centrada en el umbral\n",
    "    p = norm.cdf(PROCESOS[i, :], loc=u, scale=sigma_u)\n",
    "    d = bernoulli.rvs(p)\n",
    "\n",
    "    anterior = np.sum(cuentas)\n",
    "    checkeo = d == 1\n",
    "    cuentas[checkeo] = 1\n",
    "    \n",
    "    histogram_MC[i] = np.sum(cuentas) - anterior\n",
    "    acumulada[i] = acumulada[i - 1] + histogram_MC[i]\n",
    "    \n",
    "    # media y varianza\n",
    "    E[i + 1] = K + a1 * E[i]\n",
    "    Var[i + 1] = a1 ** 2 * Var[i] + sigma**2\n",
    "    \n",
    "\n",
    "for i in range(I, J):\n",
    "    proceso[i + 1] = K + a1 * b1 * proceso[i] + np.random.normal(0, sigma)\n",
    "    PROCESOS[i + 1, :] = K + a1 * b1 * PROCESOS[i,:] + np.random.normal(0, sigma, size=(M,))\n",
    "    \n",
    "    p = norm.cdf(PROCESOS[i, :], loc=u, scale=sigma_u)\n",
    "    d = bernoulli.rvs(p)\n",
    "\n",
    "    anterior = np.sum(cuentas)\n",
    "    # sobre el umbral\n",
    "    checkeo = d == 1\n",
    "    cuentas[checkeo] = 1\n",
    "    \n",
    "    histogram_MC[i] = np.sum(cuentas) - anterior\n",
    "    acumulada[i] = acumulada[i - 1] + histogram_MC[i]\n",
    "    \n",
    "    # media y varianza\n",
    "    E[i + 1] = K + a1 * b1 * E[i]\n",
    "    Var[i + 1] = a1 ** 2 * b1 ** 2 * Var[i] + sigma**2\n",
    "\n",
    "for i in range(J, int((N-1))):\n",
    "    proceso[i + 1] = K + a1 * proceso[i] + np.random.normal(0, sigma)\n",
    "    PROCESOS[i + 1, :] = K + a1 * PROCESOS[i,:] + np.random.normal(0, sigma, size=(M,))\n",
    "    \n",
    "    p = norm.cdf(PROCESOS[i, :], loc=u, scale=sigma_u)\n",
    "    d = bernoulli.rvs(p)\n",
    "\n",
    "    anterior = np.sum(cuentas)\n",
    "    # sobre el umbral\n",
    "    checkeo = d == 1\n",
    "    cuentas[checkeo] = 1\n",
    "    \n",
    "    histogram_MC[i] = np.sum(cuentas) - anterior\n",
    "    acumulada[i] = acumulada[i - 1] + histogram_MC[i]\n",
    "    \n",
    "    # media y varianza\n",
    "    E[i + 1] = K + a1 * E[i]\n",
    "    Var[i + 1] = a1 ** 2 * Var[i] + sigma**2\n",
    "    \n",
    "end = time.time()\n",
    "print('Elapsed time: {:.4f}s'.format(end - start))\n",
    "\n",
    "start = time.time()\n",
    "histogram_MC = histogram_MC / M\n",
    "# plt.plot(PROCESOS, color='k', alpha=0.05)\n",
    "# plt.plot(proceso, color='r', lw=3)\n",
    "# plt.plot(E, color='g', lw=5)\n",
    "# plt.plot(E - np.sqrt(Var), color='g', lw=5, alpha=0.5)\n",
    "# plt.plot(E + np.sqrt(Var), color='g', lw=5, alpha=0.5)\n",
    "# plt.hlines(u,0,N)\n",
    "# plt.ylim(top=u*1.4, bottom=0)\n",
    "\n",
    "# # pintar zona de peligro\n",
    "# zona_peligro = np.linspace(u - 3 * sigma_u, u + 3 * sigma_u, num=50)\n",
    "# prob_zona_peligro = norm.cdf(zona_peligro, loc=u, scale=sigma_u)\n",
    "# for i, z in enumerate(zona_peligro):\n",
    "# #     print(i, z, prob_zona_peligro[i])\n",
    "#     plt.hlines(z, 0, N, alpha=np.min((prob_zona_peligro[i], 1)), color='b')\n",
    "\n",
    "# plt.title('Simulaciones con Monte Carlo del proceso $a_1={}, b_1={}, k={}, \\sigma={}$'.format(a1,b1,K,sigma))\n",
    "# plt.show()\n",
    "\n",
    "print(np.sum(histogram_MC), M)\n",
    "plt.plot(histogram_MC, label='MC', color='b', linestyle='dashed')\n",
    "plt.title('Distribución aproximada por MC con conteo')\n",
    "plt.show()\n",
    "\n",
    "plt.plot(acumulada / M, label='MC', color='b', linestyle='dashed')\n",
    "plt.title('Distribución acumulada aproximada por MC con conteo')\n",
    "plt.show()\n",
    "\n",
    "\n",
    "end = time.time()\n",
    "print('Graficos Elapsed time: {:.4f}s'.format(end - start))\n"
   ]
  },
  {
   "cell_type": "markdown",
   "metadata": {},
   "source": [
    "A continuación se aplicará el método del ejercicio 2 basado en el filtro de partículas para calcular la PMF del instante de falla, considerando el umbral difuso"
   ]
  },
  {
   "cell_type": "code",
   "execution_count": 21,
   "metadata": {},
   "outputs": [
    {
     "name": "stdout",
     "output_type": "stream",
     "text": [
      "Elapsed time: 1.1031s\n",
      "0.9975 400\n"
     ]
    },
    {
     "data": {
      "image/png": "[encoded data removed]",
      "text/plain": [
       "<Figure size 432x288 with 1 Axes>"
      ]
     },
     "metadata": {
      "needs_background": "light"
     },
     "output_type": "display_data"
    },
    {
     "name": "stdout",
     "output_type": "stream",
     "text": [
      "Dist KL: 0.24457532832997245\n"
     ]
    }
   ],
   "source": [
    "# se toma el instante inicial\n",
    "k = 0\n",
    "m = 400 # cantidad de particulasnumpy \n",
    "particulas = np.zeros((N,m))\n",
    "particulas[k,:] = np.random.normal(E[k], np.sqrt(Var[k]), size=m)\n",
    "# particulas[k,:] = E[k]\n",
    "\n",
    "cuentas2 = np.zeros((m,))\n",
    "histogram_filtro = np.zeros((N,))\n",
    "anterior = 0\n",
    "total = 0\n",
    "indices_bajo_umbral = np.arange(0,N)\n",
    "\n",
    "# paso de propagacion de las particulas\n",
    "\n",
    "start = time.time()\n",
    "for i in range(k, I):    \n",
    "    anterior = total\n",
    "    for j, p in enumerate(particulas[i, :]):\n",
    "        if cuentas2[j] == 0.0 and bernoulli.rvs(norm.cdf(p, loc=u, scale=sigma_u)):\n",
    "            total += 1\n",
    "            cuentas2[j] = i\n",
    "            \n",
    "    histogram_filtro[i] = (total - anterior) / (m)\n",
    "    \n",
    "    particulas[i + 1, :] = K + a1 * particulas[i,:] + np.random.normal(0, sigma, size=m)\n",
    "\n",
    "for i in range(I, J):\n",
    "    anterior = total\n",
    "    for j, p in enumerate(particulas[i, :]):\n",
    "        if cuentas2[j] == 0.0 and bernoulli.rvs(norm.cdf(p, loc=u, scale=sigma_u)):\n",
    "            total += 1\n",
    "            cuentas2[j] = i\n",
    "            \n",
    "    histogram_filtro[i] = (total - anterior) / (m)\n",
    "    \n",
    "    particulas[i + 1, :] = K + a1 * b1 * particulas[i,:] + np.random.normal(0, sigma, size=m)\n",
    "\n",
    "for i in range(J, int((N-1))):    \n",
    "    anterior = total\n",
    "    for j, p in enumerate(particulas[i, :]):\n",
    "        if cuentas2[j] == 0.0 and bernoulli.rvs(norm.cdf(p, loc=u, scale=sigma_u)):\n",
    "            total += 1\n",
    "            cuentas2[j] = i\n",
    "            \n",
    "    histogram_filtro[i] = (total - anterior) / (m)\n",
    "    \n",
    "    particulas[i + 1, :] = K + a1 * particulas[i,:] + np.random.normal(0, sigma, size=m)\n",
    "    \n",
    "end = time.time()\n",
    "print('Elapsed time: {:.4f}s'.format(end - start))\n",
    "\n",
    "print(np.sum(histogram_filtro), m)\n",
    "plt.plot(histogram_filtro, label='algoritmo', color='orange')\n",
    "plt.plot(histogram_MC, label='MC', color='b')\n",
    "plt.title('Distribución aproximada')\n",
    "plt.legend()\n",
    "plt.show()\n",
    "\n",
    "print('Dist KL: {}'.format(KL_dist(histogram_MC, histogram_filtro)))"
   ]
  },
  {
   "cell_type": "code",
   "execution_count": 22,
   "metadata": {},
   "outputs": [
    {
     "data": {
      "image/png": "[encoded data removed]",
      "text/plain": [
       "<Figure size 432x288 with 1 Axes>"
      ]
     },
     "metadata": {
      "needs_background": "light"
     },
     "output_type": "display_data"
    }
   ],
   "source": [
    "x, h = histograma(histogram_MC, bins=len(histogram_MC), alpha=0.5, color='b', label='MC')\n",
    "x, h = histograma(histogram_filtro, bins=len(histogram_filtro), alpha=0.5, color='orange', label='prediccion')\n",
    "# plt.plot(histogram_filtro, label='prediccion', color='orange')\n",
    "# plt.plot(histogram_MC, label='MC', color='b')\n",
    "plt.legend()\n",
    "plt.xlabel('fpt')\n",
    "plt.ylabel('frecuencia')\n",
    "plt.title('Histogramas de comparacion')\n",
    "plt.show()\n"
   ]
  },
  {
   "cell_type": "code",
   "execution_count": 23,
   "metadata": {},
   "outputs": [
    {
     "name": "stdout",
     "output_type": "stream",
     "text": [
      "Elapsed time: 1.0279s\n",
      "0.9974999999999999 400\n"
     ]
    },
    {
     "data": {
      "image/png": "[encoded data removed]",
      "text/plain": [
       "<Figure size 432x288 with 1 Axes>"
      ]
     },
     "metadata": {
      "needs_background": "light"
     },
     "output_type": "display_data"
    },
    {
     "name": "stdout",
     "output_type": "stream",
     "text": [
      "Dist KL: 0.44443645615986976\n"
     ]
    }
   ],
   "source": [
    "# se toma el instante inicial\n",
    "k = 0\n",
    "m = 400 # cantidad de particulasnumpy \n",
    "particulas = np.zeros((N,m))\n",
    "particulas[k,:] = np.random.normal(E[k], np.sqrt(Var[k]), size=m)\n",
    "# particulas[k,:] = E[k]\n",
    "\n",
    "cuentas2 = np.zeros((m,))\n",
    "histogram_filtro = np.zeros((N,))\n",
    "anterior = 0\n",
    "total = 0\n",
    "indices_bajo_umbral = np.arange(0,N)\n",
    "\n",
    "# paso de propagacion de las particulas\n",
    "\n",
    "start = time.time()\n",
    "for i in range(k, I):    \n",
    "    anterior = total\n",
    "    for j, p in enumerate(particulas[i, :]):\n",
    "        if cuentas2[j] == 0.0 and bernoulli.rvs(norm.cdf(p, loc=u, scale=sigma_u)):\n",
    "            total += 1\n",
    "            cuentas2[j] = i\n",
    "            \n",
    "    histogram_filtro[i] = (total - anterior) / (m)\n",
    "    \n",
    "    particulas[i + 1, :] = K + a1 * particulas[i,:] + np.random.normal(0, sigma, size=m)\n",
    "\n",
    "for i in range(I, J):\n",
    "    anterior = total\n",
    "    for j, p in enumerate(particulas[i, :]):\n",
    "        if cuentas2[j] == 0.0 and bernoulli.rvs(norm.cdf(p, loc=u, scale=sigma_u)):\n",
    "            total += 1\n",
    "            cuentas2[j] = i\n",
    "            \n",
    "    histogram_filtro[i] = (total - anterior) / (m)\n",
    "    \n",
    "    particulas[i + 1, :] = K + a1 * b1 * particulas[i,:] + np.random.normal(0, sigma, size=m)\n",
    "\n",
    "for i in range(J, int((N-1))):    \n",
    "    anterior = total\n",
    "    for j, p in enumerate(particulas[i, :]):\n",
    "        if cuentas2[j] == 0.0 and bernoulli.rvs(norm.cdf(p, loc=u, scale=sigma_u)):\n",
    "            total += 1\n",
    "            cuentas2[j] = i\n",
    "            \n",
    "    histogram_filtro[i] = (total - anterior) / (m)\n",
    "    \n",
    "    particulas[i + 1, :] = K + a1 * particulas[i,:] + np.random.normal(0, sigma, size=m)\n",
    "    \n",
    "end = time.time()\n",
    "print('Elapsed time: {:.4f}s'.format(end - start))\n",
    "\n",
    "print(np.sum(histogram_filtro), m)\n",
    "plt.plot(histogram_filtro, label='algoritmo', color='orange')\n",
    "plt.plot(histogram_MC, label='MC', color='b')\n",
    "plt.title('Distribución aproximada')\n",
    "plt.legend()\n",
    "plt.show()\n",
    "\n",
    "print('Dist KL: {}'.format(KL_dist(histogram_MC, histogram_filtro)))"
   ]
  },
  {
   "cell_type": "code",
   "execution_count": 24,
   "metadata": {},
   "outputs": [
    {
     "data": {
      "image/png": "[encoded data removed]",
      "text/plain": [
       "<Figure size 432x288 with 1 Axes>"
      ]
     },
     "metadata": {
      "needs_background": "light"
     },
     "output_type": "display_data"
    }
   ],
   "source": [
    "x, h = histograma(histogram_MC, bins=len(histogram_MC), alpha=0.5, color='b', label='MC')\n",
    "x, h = histograma(histogram_filtro, bins=len(histogram_filtro), alpha=0.5, color='orange', label='prediccion')\n",
    "# plt.plot(histogram_filtro, label='prediccion', color='orange')\n",
    "# plt.plot(histogram_MC, label='MC', color='b')\n",
    "plt.legend()\n",
    "plt.xlabel('fpt')\n",
    "plt.ylabel('frecuencia')\n",
    "plt.title('Histogramas de comparacion')\n",
    "plt.show()\n"
   ]
  },
  {
   "cell_type": "code",
   "execution_count": 25,
   "metadata": {},
   "outputs": [
    {
     "name": "stdout",
     "output_type": "stream",
     "text": [
      "Elapsed time: 0.0527s\n",
      "0.9974815965539126 400\n"
     ]
    },
    {
     "data": {
      "image/png": "[encoded data removed]",
      "text/plain": [
       "<Figure size 432x288 with 1 Axes>"
      ]
     },
     "metadata": {
      "needs_background": "light"
     },
     "output_type": "display_data"
    },
    {
     "name": "stdout",
     "output_type": "stream",
     "text": [
      "Dist KL: 0.05564609103682128\n"
     ]
    }
   ],
   "source": [
    "# se toma el instante inicial\n",
    "k = 0\n",
    "m = 400 # cantidad de particulasnumpy \n",
    "particulas = np.random.normal(E[k], np.sqrt(Var[k]), size=m)\n",
    "pesos = np.ones((m,)) / m\n",
    "\n",
    "cuentas2 = np.zeros((m,))\n",
    "histogram_filtro = np.zeros((N,))\n",
    "anterior = 0\n",
    "total = 0\n",
    "indices_bajo_umbral = np.arange(0,N)\n",
    "\n",
    "# paso de propagacion de las particulas\n",
    "start = time.time()\n",
    "for i in range(k, I):\n",
    "\n",
    "    # particulas sobre el umbral\n",
    "    idx = np.argsort(particulas)\n",
    "    particulas = particulas[idx]\n",
    "    pesos = pesos[idx]\n",
    "    \n",
    "    p_th_i = np.argwhere(particulas >= u - 3*sigma_u)\n",
    "    \n",
    "    if len(p_th_i) == 0:\n",
    "        p_th = p_th_i\n",
    "    else:\n",
    "        p = norm.cdf(particulas[p_th_i], loc=u, scale=sigma_u)\n",
    "        b = bernoulli.rvs(p)\n",
    "        p_th = p_th_i[b > 0]\n",
    "    \n",
    "    if len(p_th) > 0:\n",
    "        histogram_filtro[i] = np.sum(pesos[p_th])\n",
    "        n_np = np.sum(pesos[p_th] != 0)\n",
    "        pesos[p_th] = 0\n",
    "        p_u_th = particulas[pesos != 0]\n",
    "        w_u_th = pesos[pesos != 0]\n",
    "        \n",
    "        if len(w_u_th) > 0:\n",
    "            p_new, _, _  = resamplear(p_u_th, w_u_th, n_np)\n",
    "            particulas = np.concatenate((p_new, particulas))\n",
    "            w_aux = np.ones((len(p_new),)) * np.sum(w_u_th) / m\n",
    "            pesos[pesos != 0] = np.sum(w_u_th) / m\n",
    "            pesos = np.concatenate((w_aux, pesos))\n",
    "            \n",
    "    particulas = K + a1 * particulas + np.random.normal(0, sigma, size=len(particulas))\n",
    "\n",
    "for i in range(I, J):\n",
    "\n",
    "    # particulas sobre el umbral\n",
    "    idx = np.argsort(particulas)\n",
    "    particulas = particulas[idx]\n",
    "    pesos = pesos[idx]\n",
    "    \n",
    "    p_th_i = np.argwhere(particulas >= u - 3*sigma_u)\n",
    "    \n",
    "    if len(p_th_i) == 0:\n",
    "        p_th = p_th_i\n",
    "    else:\n",
    "        p = norm.cdf(particulas[p_th_i], loc=u, scale=sigma_u)\n",
    "        b = bernoulli.rvs(p)\n",
    "        p_th = p_th_i[b > 0]\n",
    "    \n",
    "    if len(p_th) > 0:\n",
    "        histogram_filtro[i] = np.sum(pesos[p_th])\n",
    "        n_np = np.sum(pesos[p_th] != 0)\n",
    "        pesos[p_th] = 0\n",
    "        p_u_th = particulas[pesos != 0]\n",
    "        w_u_th = pesos[pesos != 0]\n",
    "        \n",
    "        if len(w_u_th) > 0:\n",
    "            p_new, _, _  = resamplear(p_u_th, w_u_th, n_np)\n",
    "            particulas = np.concatenate((p_new, particulas))\n",
    "            w_aux = np.ones((len(p_new),)) * np.sum(w_u_th) / m\n",
    "            pesos[pesos != 0] = np.sum(w_u_th) / m\n",
    "            pesos = np.concatenate((w_aux, pesos))\n",
    "            \n",
    "    particulas = K + a1 * b1 * particulas + np.random.normal(0, sigma, size=len(particulas))\n",
    "\n",
    "for i in range(J, int((N-1))):    \n",
    "\n",
    "    # particulas sobre el umbral\n",
    "    idx = np.argsort(particulas)\n",
    "    particulas = particulas[idx]\n",
    "    pesos = pesos[idx]\n",
    "    \n",
    "    p_th_i = np.argwhere(particulas >= u - 3*sigma_u)\n",
    "    \n",
    "    if len(p_th_i) == 0:\n",
    "        p_th = p_th_i\n",
    "    else:\n",
    "        p = norm.cdf(particulas[p_th_i], loc=u, scale=sigma_u)\n",
    "        b = bernoulli.rvs(p)\n",
    "        p_th = p_th_i[b > 0]\n",
    "        \n",
    "    if len(p_th) > 0:\n",
    "        histogram_filtro[i] = np.sum(pesos[p_th])\n",
    "        n_np = np.sum(pesos[p_th] != 0)\n",
    "        pesos[p_th] = 0\n",
    "        p_u_th = particulas[pesos != 0]\n",
    "        w_u_th = pesos[pesos != 0]\n",
    "        \n",
    "        if len(w_u_th) > 0:\n",
    "            p_new, _, _  = resamplear(p_u_th, w_u_th, n_np)\n",
    "            particulas = np.concatenate((p_new, particulas))\n",
    "            w_aux = np.ones((len(p_new),)) * np.sum(w_u_th) / m\n",
    "            pesos[pesos != 0] = np.sum(w_u_th) / m\n",
    "            pesos = np.concatenate((w_aux, pesos))\n",
    "\n",
    "    particulas = K + a1 * particulas + np.random.normal(0, sigma, size=len(particulas))\n",
    "    \n",
    "end = time.time()\n",
    "print('Elapsed time: {:.4f}s'.format(end - start))\n",
    "\n",
    "print(np.sum(histogram_filtro), m)\n",
    "plt.plot(histogram_filtro, label='algoritmo', color='orange')\n",
    "plt.plot(histogram_MC, label='MC', color='b')\n",
    "plt.title('Distribución aproximada')\n",
    "plt.legend()\n",
    "plt.show()\n",
    "\n",
    "print('Dist KL: {}'.format(KL_dist(histogram_MC, histogram_filtro)))"
   ]
  },
  {
   "cell_type": "code",
   "execution_count": null,
   "metadata": {},
   "outputs": [],
   "source": []
  },
  {
   "cell_type": "code",
   "execution_count": null,
   "metadata": {},
   "outputs": [],
   "source": []
  },
  {
   "cell_type": "code",
   "execution_count": null,
   "metadata": {},
   "outputs": [],
   "source": []
  },
  {
   "cell_type": "code",
   "execution_count": null,
   "metadata": {},
   "outputs": [],
   "source": []
  },
  {
   "cell_type": "code",
   "execution_count": null,
   "metadata": {},
   "outputs": [],
   "source": []
  },
  {
   "cell_type": "code",
   "execution_count": null,
   "metadata": {},
   "outputs": [],
   "source": []
  },
  {
   "cell_type": "code",
   "execution_count": null,
   "metadata": {},
   "outputs": [],
   "source": []
  },
  {
   "cell_type": "code",
   "execution_count": null,
   "metadata": {},
   "outputs": [],
   "source": []
  },
  {
   "cell_type": "code",
   "execution_count": null,
   "metadata": {},
   "outputs": [],
   "source": []
  },
  {
   "cell_type": "code",
   "execution_count": null,
   "metadata": {},
   "outputs": [],
   "source": []
  },
  {
   "cell_type": "code",
   "execution_count": null,
   "metadata": {},
   "outputs": [],
   "source": []
  },
  {
   "cell_type": "code",
   "execution_count": null,
   "metadata": {},
   "outputs": [],
   "source": []
  },
  {
   "cell_type": "code",
   "execution_count": null,
   "metadata": {},
   "outputs": [],
   "source": []
  },
  {
   "cell_type": "code",
   "execution_count": null,
   "metadata": {},
   "outputs": [],
   "source": []
  },
  {
   "cell_type": "code",
   "execution_count": null,
   "metadata": {},
   "outputs": [],
   "source": []
  },
  {
   "cell_type": "code",
   "execution_count": null,
   "metadata": {},
   "outputs": [],
   "source": []
  },
  {
   "cell_type": "code",
   "execution_count": null,
   "metadata": {},
   "outputs": [],
   "source": []
  },
  {
   "cell_type": "code",
   "execution_count": null,
   "metadata": {},
   "outputs": [],
   "source": []
  },
  {
   "cell_type": "code",
   "execution_count": null,
   "metadata": {},
   "outputs": [],
   "source": []
  },
  {
   "cell_type": "code",
   "execution_count": null,
   "metadata": {},
   "outputs": [],
   "source": []
  }
 ],
 "metadata": {
  "kernelspec": {
   "display_name": "Python 3.8.1 64-bit ('stats': conda)",
   "language": "python",
   "name": "python38164bitstatsconda657e2278ee574724a15ad00436d356aa"
  },
  "language_info": {
   "codemirror_mode": {
    "name": "ipython",
    "version": 3
   },
   "file_extension": ".py",
   "mimetype": "text/x-python",
   "name": "python",
   "nbconvert_exporter": "python",
   "pygments_lexer": "ipython3",
   "version": "3.8.1"
  }
 },
 "nbformat": 4,
 "nbformat_minor": 4
}
